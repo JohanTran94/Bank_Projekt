{
 "cells": [
  {
   "cell_type": "code",
   "execution_count": 1,
   "id": "initial_id",
   "metadata": {
    "ExecuteTime": {
     "end_time": "2025-05-29T08:04:54.974871Z",
     "start_time": "2025-05-29T08:04:53.997504Z"
    }
   },
   "outputs": [
    {
     "name": "stdout",
     "output_type": "stream",
     "text": [
      "<class 'pandas.core.frame.DataFrame'>\n",
      "RangeIndex: 100000 entries, 0 to 99999\n",
      "Data columns (total 12 columns):\n",
      " #   Column                 Non-Null Count   Dtype  \n",
      "---  ------                 --------------   -----  \n",
      " 0   transaction_id         100000 non-null  object \n",
      " 1   timestamp              100000 non-null  object \n",
      " 2   amount                 100000 non-null  float64\n",
      " 3   currency               100000 non-null  object \n",
      " 4   sender_account         100000 non-null  object \n",
      " 5   receiver_account       100000 non-null  object \n",
      " 6   sender_country         99500 non-null   object \n",
      " 7   sender_municipality    99500 non-null   object \n",
      " 8   receiver_country       99500 non-null   object \n",
      " 9   receiver_municipality  99500 non-null   object \n",
      " 10  transaction_type       100000 non-null  object \n",
      " 11  notes                  90052 non-null   object \n",
      "dtypes: float64(1), object(11)\n",
      "memory usage: 9.2+ MB\n"
     ]
    },
    {
     "data": {
      "text/plain": [
       "currency\n",
       "SEK    80711\n",
       "USD    15221\n",
       "EUR     1814\n",
       "NOK      956\n",
       "DKK      927\n",
       "RMB      108\n",
       "ZAR       71\n",
       "GBP       66\n",
       "JPY       65\n",
       "ZMW       61\n",
       "Name: count, dtype: int64"
      ]
     },
     "execution_count": 1,
     "metadata": {},
     "output_type": "execute_result"
    }
   ],
   "source": [
    "import pandas as pd\n",
    "\n",
    "df = pd.read_csv(\"data/transactions.csv\")\n",
    "df.info()\n",
    "df.describe()\n",
    "df.isnull().sum()\n",
    "df.duplicated().sum()\n",
    "df['currency'].value_counts()\n",
    "\n",
    "#Output nedan verkar vara rimlig i form av det jag kan utläsa. Det finns dock NULL-värden som ev behöver hanteras på något sätt. sender_country, mun..\n",
    "# och reciver_country bland annat. Att notes har NULL-värden är fine--> Att skriva en kommentar till sin överföring är inte kritiskt för bankens integritet. "
   ]
  },
  {
   "cell_type": "code",
   "execution_count": 6,
   "id": "cdaf1839-71e2-4c6f-b565-d78ab57bc195",
   "metadata": {},
   "outputs": [
    {
     "name": "stdout",
     "output_type": "stream",
     "text": [
      "<class 'pandas.core.frame.DataFrame'>\n",
      "RangeIndex: 1000 entries, 0 to 999\n",
      "Data columns (total 5 columns):\n",
      " #   Column        Non-Null Count  Dtype \n",
      "---  ------        --------------  ----- \n",
      " 0   Customer      1000 non-null   object\n",
      " 1   Address       1000 non-null   object\n",
      " 2   Phone         1000 non-null   object\n",
      " 3   Personnummer  1000 non-null   object\n",
      " 4   BankAccount   1000 non-null   object\n",
      "dtypes: object(5)\n",
      "memory usage: 39.2+ KB\n"
     ]
    },
    {
     "data": {
      "text/plain": [
       "Customer         581\n",
       "Address          581\n",
       "Phone            581\n",
       "Personnummer     581\n",
       "BankAccount     1000\n",
       "dtype: int64"
      ]
     },
     "execution_count": 6,
     "metadata": {},
     "output_type": "execute_result"
    }
   ],
   "source": [
    "import pandas as pd\n",
    "\n",
    "df = pd.read_csv(\"data/sebank_customers_with_accounts.csv\")\n",
    "df.head()\n",
    "df.info()\n",
    "df.duplicated().sum()\n",
    "df.nunique()\n",
    "\n",
    "#Ev insikter : Det finns 581 unika kunder som TSM utgör 1000. För det finns 581 adresser,telefon,personummer...\n",
    "#Fortsättningsvis så TROR jag att alla kolumner har non null för varje HEL rad är unik. Även fast vissa element delar egenskaper så skapas \n",
    "# det 1000 unika rader."
   ]
  },
  {
   "cell_type": "code",
   "execution_count": null,
   "id": "31205d59-f8ab-4745-8e8e-2277b714148b",
   "metadata": {},
   "outputs": [],
   "source": []
  }
 ],
 "metadata": {
  "kernelspec": {
   "display_name": "Python 3 (ipykernel)",
   "language": "python",
   "name": "python3"
  },
  "language_info": {
   "codemirror_mode": {
    "name": "ipython",
    "version": 3
   },
   "file_extension": ".py",
   "mimetype": "text/x-python",
   "name": "python",
   "nbconvert_exporter": "python",
   "pygments_lexer": "ipython3",
   "version": "3.11.8"
  }
 },
 "nbformat": 4,
 "nbformat_minor": 5
}
