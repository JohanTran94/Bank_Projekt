{
 "cells": [
  {
   "metadata": {
    "ExecuteTime": {
     "end_time": "2025-05-30T11:22:22.981169Z",
     "start_time": "2025-05-30T11:22:22.615791Z"
    }
   },
   "cell_type": "code",
   "source": [
    "import great_expectations as gx\n",
    "import pandas as pd\n",
    "import warnings\n",
    "\n",
    "warnings.filterwarnings(\"ignore\", message=\"`result_format` configured at the Validator-level*\")\n",
    "df_trans = pd.read_csv(\"./data/transactions.csv\")\n",
    "context = gx.get_context()\n",
    "datasource = context.data_sources.add_pandas(name=\"pandas\")\n",
    "data_asset = datasource.add_dataframe_asset(name=\"transactions_data\")\n",
    "batch_def = data_asset.add_batch_definition_whole_dataframe(name=\"batch_def\")\n",
    "batch = batch_def.get_batch(batch_parameters={\"dataframe\": df_trans})\n"
   ],
   "id": "20e1384fb6596348",
   "outputs": [],
   "execution_count": 49
  },
  {
   "metadata": {
    "ExecuteTime": {
     "end_time": "2025-05-30T11:22:24.776233Z",
     "start_time": "2025-05-30T11:22:24.763772Z"
    }
   },
   "cell_type": "code",
   "source": [
    "suite = gx.core.ExpectationSuite(name=\"transactions_suite\")\n",
    "validator = context.get_validator(batch=batch, expectation_suite=suite)\n"
   ],
   "id": "e64c3b2279cedec3",
   "outputs": [],
   "execution_count": 50
  },
  {
   "metadata": {
    "ExecuteTime": {
     "end_time": "2025-05-30T11:22:26.233643Z",
     "start_time": "2025-05-30T11:22:26.160717Z"
    }
   },
   "cell_type": "code",
   "source": [
    "# transaction_id\n",
    "validator.expect_column_values_to_not_be_null(\"transaction_id\")\n",
    "validator.expect_column_values_to_be_unique(\"transaction_id\")"
   ],
   "id": "ef191c9a6b136d6b",
   "outputs": [
    {
     "name": "stderr",
     "output_type": "stream",
     "text": [
      "Calculating Metrics: 100%|██████████| 6/6 [00:00<?, ?it/s]\n",
      "Calculating Metrics: 100%|██████████| 8/8 [00:00<00:00, 154.76it/s]\n"
     ]
    },
    {
     "data": {
      "text/plain": [
       "{\n",
       "  \"success\": true,\n",
       "  \"expectation_config\": {\n",
       "    \"type\": \"expect_column_values_to_be_unique\",\n",
       "    \"kwargs\": {\n",
       "      \"batch_id\": \"pandas-transactions_data\",\n",
       "      \"column\": \"transaction_id\"\n",
       "    },\n",
       "    \"meta\": {}\n",
       "  },\n",
       "  \"result\": {\n",
       "    \"element_count\": 100000,\n",
       "    \"unexpected_count\": 0,\n",
       "    \"unexpected_percent\": 0.0,\n",
       "    \"partial_unexpected_list\": [],\n",
       "    \"missing_count\": 0,\n",
       "    \"missing_percent\": 0.0,\n",
       "    \"unexpected_percent_total\": 0.0,\n",
       "    \"unexpected_percent_nonmissing\": 0.0\n",
       "  },\n",
       "  \"meta\": {},\n",
       "  \"exception_info\": {\n",
       "    \"raised_exception\": false,\n",
       "    \"exception_traceback\": null,\n",
       "    \"exception_message\": null\n",
       "  }\n",
       "}"
      ]
     },
     "execution_count": 51,
     "metadata": {},
     "output_type": "execute_result"
    }
   ],
   "execution_count": 51
  },
  {
   "metadata": {
    "ExecuteTime": {
     "end_time": "2025-05-30T11:22:35.294778Z",
     "start_time": "2025-05-30T11:22:34.787102Z"
    }
   },
   "cell_type": "code",
   "source": [
    "# timestamp\n",
    "validator.expect_column_values_to_match_strftime_format(\"timestamp\", \"%Y-%m-%d %H:%M:%S\")"
   ],
   "id": "d5d04dea3e0e3112",
   "outputs": [
    {
     "name": "stderr",
     "output_type": "stream",
     "text": [
      "Calculating Metrics: 100%|██████████| 8/8 [00:00<00:00, 16.14it/s] \n"
     ]
    },
    {
     "data": {
      "text/plain": [
       "{\n",
       "  \"success\": true,\n",
       "  \"expectation_config\": {\n",
       "    \"type\": \"expect_column_values_to_match_strftime_format\",\n",
       "    \"kwargs\": {\n",
       "      \"batch_id\": \"pandas-transactions_data\",\n",
       "      \"column\": \"timestamp\",\n",
       "      \"strftime_format\": \"%Y-%m-%d %H:%M:%S\"\n",
       "    },\n",
       "    \"meta\": {}\n",
       "  },\n",
       "  \"result\": {\n",
       "    \"element_count\": 100000,\n",
       "    \"unexpected_count\": 0,\n",
       "    \"unexpected_percent\": 0.0,\n",
       "    \"partial_unexpected_list\": [],\n",
       "    \"missing_count\": 0,\n",
       "    \"missing_percent\": 0.0,\n",
       "    \"unexpected_percent_total\": 0.0,\n",
       "    \"unexpected_percent_nonmissing\": 0.0\n",
       "  },\n",
       "  \"meta\": {},\n",
       "  \"exception_info\": {\n",
       "    \"raised_exception\": false,\n",
       "    \"exception_traceback\": null,\n",
       "    \"exception_message\": null\n",
       "  }\n",
       "}"
      ]
     },
     "execution_count": 52,
     "metadata": {},
     "output_type": "execute_result"
    }
   ],
   "execution_count": 52
  },
  {
   "metadata": {
    "ExecuteTime": {
     "end_time": "2025-05-30T11:22:37.796969Z",
     "start_time": "2025-05-30T11:22:37.744544Z"
    }
   },
   "cell_type": "code",
   "source": [
    "# amount\n",
    "validator.expect_column_values_to_be_between(\"amount\", min_value=0.01, max_value=100000)"
   ],
   "id": "234475eda8f911f7",
   "outputs": [
    {
     "name": "stderr",
     "output_type": "stream",
     "text": [
      "Calculating Metrics: 100%|██████████| 8/8 [00:00<00:00, 274.16it/s]\n"
     ]
    },
    {
     "data": {
      "text/plain": [
       "{\n",
       "  \"success\": true,\n",
       "  \"expectation_config\": {\n",
       "    \"type\": \"expect_column_values_to_be_between\",\n",
       "    \"kwargs\": {\n",
       "      \"batch_id\": \"pandas-transactions_data\",\n",
       "      \"column\": \"amount\",\n",
       "      \"min_value\": 0.01,\n",
       "      \"max_value\": 100000.0\n",
       "    },\n",
       "    \"meta\": {}\n",
       "  },\n",
       "  \"result\": {\n",
       "    \"element_count\": 100000,\n",
       "    \"unexpected_count\": 0,\n",
       "    \"unexpected_percent\": 0.0,\n",
       "    \"partial_unexpected_list\": [],\n",
       "    \"missing_count\": 0,\n",
       "    \"missing_percent\": 0.0,\n",
       "    \"unexpected_percent_total\": 0.0,\n",
       "    \"unexpected_percent_nonmissing\": 0.0\n",
       "  },\n",
       "  \"meta\": {},\n",
       "  \"exception_info\": {\n",
       "    \"raised_exception\": false,\n",
       "    \"exception_traceback\": null,\n",
       "    \"exception_message\": null\n",
       "  }\n",
       "}"
      ]
     },
     "execution_count": 53,
     "metadata": {},
     "output_type": "execute_result"
    }
   ],
   "execution_count": 53
  },
  {
   "metadata": {
    "ExecuteTime": {
     "end_time": "2025-05-30T11:22:44.093113Z",
     "start_time": "2025-05-30T11:22:44.043913Z"
    }
   },
   "cell_type": "code",
   "source": [
    "# currency\n",
    "validator.expect_column_values_to_be_in_set(\"currency\", [\"SEK\", \"USD\", \"EUR\", \"DKK\", \"JPY\", \"ZMW\", \"NOK\", \"ZAR\", \"RMB\", \"GBP\"])"
   ],
   "id": "2e4237f0e7998a8",
   "outputs": [
    {
     "name": "stderr",
     "output_type": "stream",
     "text": [
      "Calculating Metrics: 100%|██████████| 8/8 [00:00<00:00, 253.35it/s]\n"
     ]
    },
    {
     "data": {
      "text/plain": [
       "{\n",
       "  \"success\": true,\n",
       "  \"expectation_config\": {\n",
       "    \"type\": \"expect_column_values_to_be_in_set\",\n",
       "    \"kwargs\": {\n",
       "      \"batch_id\": \"pandas-transactions_data\",\n",
       "      \"column\": \"currency\",\n",
       "      \"value_set\": [\n",
       "        \"SEK\",\n",
       "        \"USD\",\n",
       "        \"EUR\",\n",
       "        \"DKK\",\n",
       "        \"JPY\",\n",
       "        \"ZMW\",\n",
       "        \"NOK\",\n",
       "        \"ZAR\",\n",
       "        \"RMB\",\n",
       "        \"GBP\"\n",
       "      ]\n",
       "    },\n",
       "    \"meta\": {}\n",
       "  },\n",
       "  \"result\": {\n",
       "    \"element_count\": 100000,\n",
       "    \"unexpected_count\": 0,\n",
       "    \"unexpected_percent\": 0.0,\n",
       "    \"partial_unexpected_list\": [],\n",
       "    \"missing_count\": 0,\n",
       "    \"missing_percent\": 0.0,\n",
       "    \"unexpected_percent_total\": 0.0,\n",
       "    \"unexpected_percent_nonmissing\": 0.0\n",
       "  },\n",
       "  \"meta\": {},\n",
       "  \"exception_info\": {\n",
       "    \"raised_exception\": false,\n",
       "    \"exception_traceback\": null,\n",
       "    \"exception_message\": null\n",
       "  }\n",
       "}"
      ]
     },
     "execution_count": 54,
     "metadata": {},
     "output_type": "execute_result"
    }
   ],
   "execution_count": 54
  },
  {
   "metadata": {
    "ExecuteTime": {
     "end_time": "2025-05-30T11:22:46.120501Z",
     "start_time": "2025-05-30T11:22:46.066102Z"
    }
   },
   "cell_type": "code",
   "source": [
    "# transaction_type\n",
    "validator.expect_column_values_to_be_in_set(\"transaction_type\", [\"incoming\", \"outgoing\"])"
   ],
   "id": "1c30449494446ba6",
   "outputs": [
    {
     "name": "stderr",
     "output_type": "stream",
     "text": [
      "Calculating Metrics: 100%|██████████| 8/8 [00:00<00:00, 251.78it/s]\n"
     ]
    },
    {
     "data": {
      "text/plain": [
       "{\n",
       "  \"success\": true,\n",
       "  \"expectation_config\": {\n",
       "    \"type\": \"expect_column_values_to_be_in_set\",\n",
       "    \"kwargs\": {\n",
       "      \"batch_id\": \"pandas-transactions_data\",\n",
       "      \"column\": \"transaction_type\",\n",
       "      \"value_set\": [\n",
       "        \"incoming\",\n",
       "        \"outgoing\"\n",
       "      ]\n",
       "    },\n",
       "    \"meta\": {}\n",
       "  },\n",
       "  \"result\": {\n",
       "    \"element_count\": 100000,\n",
       "    \"unexpected_count\": 0,\n",
       "    \"unexpected_percent\": 0.0,\n",
       "    \"partial_unexpected_list\": [],\n",
       "    \"missing_count\": 0,\n",
       "    \"missing_percent\": 0.0,\n",
       "    \"unexpected_percent_total\": 0.0,\n",
       "    \"unexpected_percent_nonmissing\": 0.0\n",
       "  },\n",
       "  \"meta\": {},\n",
       "  \"exception_info\": {\n",
       "    \"raised_exception\": false,\n",
       "    \"exception_traceback\": null,\n",
       "    \"exception_message\": null\n",
       "  }\n",
       "}"
      ]
     },
     "execution_count": 55,
     "metadata": {},
     "output_type": "execute_result"
    }
   ],
   "execution_count": 55
  },
  {
   "metadata": {
    "ExecuteTime": {
     "end_time": "2025-05-30T11:22:47.745134Z",
     "start_time": "2025-05-30T11:22:47.582860Z"
    }
   },
   "cell_type": "code",
   "source": [
    "validator.expect_column_values_to_match_regex(\n",
    "    \"receiver_account\",\n",
    "    r\"^(?:SE\\d{4}[A-Z]{4}\\d{14}|GB\\d{2}[A-Z]{4}\\d{14})$\"\n",
    ")\n",
    "\n",
    "validator.expect_column_values_to_match_regex(\n",
    "    \"sender_account\",\n",
    "    r\"^(?:SE\\d{4}[A-Z]{4}\\d{14}|GB\\d{2}[A-Z]{4}\\d{14})$\"\n",
    ")"
   ],
   "id": "d350e6d9730dfa6b",
   "outputs": [
    {
     "name": "stderr",
     "output_type": "stream",
     "text": [
      "Calculating Metrics: 100%|██████████| 8/8 [00:00<00:00, 111.58it/s]\n",
      "Calculating Metrics: 100%|██████████| 8/8 [00:00<00:00, 111.53it/s]\n"
     ]
    },
    {
     "data": {
      "text/plain": [
       "{\n",
       "  \"success\": true,\n",
       "  \"expectation_config\": {\n",
       "    \"type\": \"expect_column_values_to_match_regex\",\n",
       "    \"kwargs\": {\n",
       "      \"batch_id\": \"pandas-transactions_data\",\n",
       "      \"column\": \"sender_account\",\n",
       "      \"regex\": \"^(?:SE\\\\d{4}[A-Z]{4}\\\\d{14}|GB\\\\d{2}[A-Z]{4}\\\\d{14})$\"\n",
       "    },\n",
       "    \"meta\": {}\n",
       "  },\n",
       "  \"result\": {\n",
       "    \"element_count\": 100000,\n",
       "    \"unexpected_count\": 0,\n",
       "    \"unexpected_percent\": 0.0,\n",
       "    \"partial_unexpected_list\": [],\n",
       "    \"missing_count\": 0,\n",
       "    \"missing_percent\": 0.0,\n",
       "    \"unexpected_percent_total\": 0.0,\n",
       "    \"unexpected_percent_nonmissing\": 0.0\n",
       "  },\n",
       "  \"meta\": {},\n",
       "  \"exception_info\": {\n",
       "    \"raised_exception\": false,\n",
       "    \"exception_traceback\": null,\n",
       "    \"exception_message\": null\n",
       "  }\n",
       "}"
      ]
     },
     "execution_count": 56,
     "metadata": {},
     "output_type": "execute_result"
    }
   ],
   "execution_count": 56
  },
  {
   "metadata": {
    "tags": [
     "Unknown receiver or sender country"
    ],
    "ExecuteTime": {
     "end_time": "2025-05-30T11:22:52.107082Z",
     "start_time": "2025-05-30T11:22:52.063837Z"
    }
   },
   "cell_type": "code",
   "source": [
    "#sender/receiver_country\n",
    "validator.expect_column_values_to_not_be_null(\"sender_country\")\n",
    "validator.expect_column_values_to_not_be_null(\"receiver_country\")"
   ],
   "id": "b2b1dcd12391de5e",
   "outputs": [
    {
     "name": "stderr",
     "output_type": "stream",
     "text": [
      "Calculating Metrics: 100%|██████████| 6/6 [00:00<00:00, 934.70it/s]\n",
      "Calculating Metrics: 100%|██████████| 6/6 [00:00<00:00, 2574.77it/s]\n"
     ]
    }
   ],
   "execution_count": 57
  },
  {
   "metadata": {
    "ExecuteTime": {
     "end_time": "2025-05-30T11:22:54.018355Z",
     "start_time": "2025-05-30T11:22:54.004788Z"
    }
   },
   "cell_type": "code",
   "source": [
    "#markera null värder i receiver_country\n",
    "df_trans[\"receiver_country_missing\"] = df_trans[\"receiver_country\"].isnull()\n",
    "missing_rows = df_trans[df_trans[\"receiver_country_missing\"]]\n",
    "print(missing_rows.head())"
   ],
   "id": "ff04720b83cb5f2b",
   "outputs": [
    {
     "name": "stdout",
     "output_type": "stream",
     "text": [
      "                           transaction_id            timestamp    amount  \\\n",
      "675  99723967-1bc3-4f9f-85ed-cc2bfe675f5c  2025-04-17 11:12:00  46995.74   \n",
      "742  1dd877ea-185c-4f6c-b3f4-668032000d9e  2025-05-12 23:53:00  49040.75   \n",
      "762  39794385-3319-4f1d-b73a-5830638aa2a6  2025-04-10 23:55:00  15630.05   \n",
      "845  5b2636bb-70eb-4204-bc42-1b5bc87f3e6e  2025-05-12 03:55:00  29449.80   \n",
      "906  b2daea58-16d5-40ae-ba90-3d844362b519  2025-03-14 14:17:00  43954.08   \n",
      "\n",
      "    currency            sender_account          receiver_account  \\\n",
      "675      SEK  SE8902JWPZ44810854846338  SE8902PVDU32397262267370   \n",
      "742      SEK  SE8902JFXZ40334167631989  SE8902DGRO18476288845448   \n",
      "762      SEK  SE8902OLFT37200388827050  SE8902FZSN55947389902845   \n",
      "845      SEK  SE8902GZKC59110904284187  SE8902CFEY43701881421531   \n",
      "906      SEK  SE8902UFZY41218181108055  SE8902XBIN60287954526260   \n",
      "\n",
      "    sender_country sender_municipality receiver_country receiver_municipality  \\\n",
      "675         Sweden            Nyköping              NaN                 Falun   \n",
      "742         Sweden           Östersund              NaN             Uddevalla   \n",
      "762         Sweden          Södertälje              NaN             Lidköping   \n",
      "845         Sweden                Umeå              NaN               Mölndal   \n",
      "906         Sweden              Kalmar              NaN             Sandviken   \n",
      "\n",
      "    transaction_type             notes  receiver_country_missing  \n",
      "675         outgoing    Salary payment                      True  \n",
      "742         outgoing  Insurance payout                      True  \n",
      "762         incoming    Loan repayment                      True  \n",
      "845         outgoing               NaN                      True  \n",
      "906         outgoing  Insurance payout                      True  \n"
     ]
    }
   ],
   "execution_count": 58
  },
  {
   "metadata": {
    "ExecuteTime": {
     "end_time": "2025-05-30T11:22:56.251413Z",
     "start_time": "2025-05-30T11:22:56.213968Z"
    }
   },
   "cell_type": "code",
   "source": [
    "#sender/receiver_municipality\n",
    "validator.expect_column_values_to_not_be_null(\"sender_municipality\")\n",
    "validator.expect_column_values_to_not_be_null(\"receiver_municipality\")"
   ],
   "id": "f457dbc5a743f454",
   "outputs": [
    {
     "name": "stderr",
     "output_type": "stream",
     "text": [
      "Calculating Metrics: 100%|██████████| 6/6 [00:00<00:00, 382.98it/s]\n",
      "Calculating Metrics: 100%|██████████| 6/6 [00:00<00:00, 371.34it/s]\n"
     ]
    },
    {
     "data": {
      "text/plain": [
       "{\n",
       "  \"success\": false,\n",
       "  \"expectation_config\": {\n",
       "    \"type\": \"expect_column_values_to_not_be_null\",\n",
       "    \"kwargs\": {\n",
       "      \"batch_id\": \"pandas-transactions_data\",\n",
       "      \"column\": \"receiver_municipality\"\n",
       "    },\n",
       "    \"meta\": {}\n",
       "  },\n",
       "  \"result\": {\n",
       "    \"element_count\": 100000,\n",
       "    \"unexpected_count\": 500,\n",
       "    \"unexpected_percent\": 0.5,\n",
       "    \"partial_unexpected_list\": [\n",
       "      null,\n",
       "      null,\n",
       "      null,\n",
       "      null,\n",
       "      null,\n",
       "      null,\n",
       "      null,\n",
       "      null,\n",
       "      null,\n",
       "      null,\n",
       "      null,\n",
       "      null,\n",
       "      null,\n",
       "      null,\n",
       "      null,\n",
       "      null,\n",
       "      null,\n",
       "      null,\n",
       "      null,\n",
       "      null\n",
       "    ]\n",
       "  },\n",
       "  \"meta\": {},\n",
       "  \"exception_info\": {\n",
       "    \"raised_exception\": false,\n",
       "    \"exception_traceback\": null,\n",
       "    \"exception_message\": null\n",
       "  }\n",
       "}"
      ]
     },
     "execution_count": 59,
     "metadata": {},
     "output_type": "execute_result"
    }
   ],
   "execution_count": 59
  },
  {
   "metadata": {
    "ExecuteTime": {
     "end_time": "2025-05-30T11:23:01.434875Z",
     "start_time": "2025-05-30T11:23:01.418700Z"
    }
   },
   "cell_type": "code",
   "source": [
    "#markera null värder i receiver_municipality\n",
    "df_trans['missing_receiver_municipality'] = df_trans['receiver_municipality'].isnull()\n",
    "missing_rows = df_trans[df_trans['missing_receiver_municipality'] == True]\n",
    "print(missing_rows.head())"
   ],
   "id": "f9fbfb41d7e3866d",
   "outputs": [
    {
     "name": "stdout",
     "output_type": "stream",
     "text": [
      "                            transaction_id            timestamp    amount  \\\n",
      "179   0af039ef-fc14-481b-a528-98b1913056fc  2025-02-11 10:49:00  32588.84   \n",
      "185   04ce7b53-4291-4e4c-b30c-fb43ab7cacf8  2025-03-07 02:09:00   9593.38   \n",
      "559   995b1a26-2f92-4d9f-b9f5-0841ed45c935  2025-01-03 16:02:00  45182.86   \n",
      "1322  43028e8c-31f5-40f2-87ea-53ecacb06efb  2025-01-27 04:13:00  49186.59   \n",
      "1332  42099361-786a-4001-8965-831dd69df345  2025-05-10 00:06:00   8806.56   \n",
      "\n",
      "     currency            sender_account          receiver_account  \\\n",
      "179       SEK  SE8902ZRZI47417483372579  SE8902PBJH90393502972632   \n",
      "185       SEK  SE8902ERJA13877835143324  SE8902ARJI52424267786590   \n",
      "559       SEK  SE8902GXKS66714923613080  SE8902ZRRV53604198996393   \n",
      "1322      SEK  SE8902XNTB41827621868449  SE8902IWYC64669423845053   \n",
      "1332      SEK  SE8902EQCK63728076800609  SE8902JIJC96071565969922   \n",
      "\n",
      "     sender_country sender_municipality receiver_country  \\\n",
      "179          Sweden           Sundsvall           Sweden   \n",
      "185          Sweden               Gävle           Sweden   \n",
      "559          Sweden          Norrköping           Sweden   \n",
      "1322         Sweden          Landskrona           Sweden   \n",
      "1332         Sweden              Kalmar           Sweden   \n",
      "\n",
      "     receiver_municipality transaction_type                      notes  \\\n",
      "179                    NaN         outgoing              Rent transfer   \n",
      "185                    NaN         incoming  Payment for invoice #8258   \n",
      "559                    NaN         outgoing           Insurance payout   \n",
      "1322                   NaN         incoming              Rent transfer   \n",
      "1332                   NaN         incoming            Mobile recharge   \n",
      "\n",
      "      receiver_country_missing  missing_receiver_municipality  \n",
      "179                      False                           True  \n",
      "185                      False                           True  \n",
      "559                      False                           True  \n",
      "1322                     False                           True  \n",
      "1332                     False                           True  \n"
     ]
    }
   ],
   "execution_count": 60
  },
  {
   "metadata": {
    "ExecuteTime": {
     "end_time": "2025-05-30T11:23:10.100165Z",
     "start_time": "2025-05-30T11:23:09.303159Z"
    }
   },
   "cell_type": "code",
   "source": [
    "results = validator.validate()\n",
    "print(results)\n"
   ],
   "id": "198751ab8c5baa",
   "outputs": [
    {
     "name": "stderr",
     "output_type": "stream",
     "text": [
      "Calculating Metrics: 100%|██████████| 54/54 [00:00<00:00, 73.54it/s]"
     ]
    },
    {
     "name": "stdout",
     "output_type": "stream",
     "text": [
      "{\n",
      "  \"success\": false,\n",
      "  \"results\": [\n",
      "    {\n",
      "      \"success\": true,\n",
      "      \"expectation_config\": {\n",
      "        \"type\": \"expect_column_values_to_not_be_null\",\n",
      "        \"kwargs\": {\n",
      "          \"batch_id\": \"pandas-transactions_data\",\n",
      "          \"column\": \"transaction_id\"\n",
      "        },\n",
      "        \"meta\": {}\n",
      "      },\n",
      "      \"result\": {\n",
      "        \"element_count\": 100000,\n",
      "        \"unexpected_count\": 0,\n",
      "        \"unexpected_percent\": 0.0,\n",
      "        \"partial_unexpected_list\": []\n",
      "      },\n",
      "      \"meta\": {},\n",
      "      \"exception_info\": {\n",
      "        \"raised_exception\": false,\n",
      "        \"exception_traceback\": null,\n",
      "        \"exception_message\": null\n",
      "      }\n",
      "    },\n",
      "    {\n",
      "      \"success\": true,\n",
      "      \"expectation_config\": {\n",
      "        \"type\": \"expect_column_values_to_be_unique\",\n",
      "        \"kwargs\": {\n",
      "          \"batch_id\": \"pandas-transactions_data\",\n",
      "          \"column\": \"transaction_id\"\n",
      "        },\n",
      "        \"meta\": {}\n",
      "      },\n",
      "      \"result\": {\n",
      "        \"element_count\": 100000,\n",
      "        \"unexpected_count\": 0,\n",
      "        \"unexpected_percent\": 0.0,\n",
      "        \"partial_unexpected_list\": [],\n",
      "        \"missing_count\": 0,\n",
      "        \"missing_percent\": 0.0,\n",
      "        \"unexpected_percent_total\": 0.0,\n",
      "        \"unexpected_percent_nonmissing\": 0.0\n",
      "      },\n",
      "      \"meta\": {},\n",
      "      \"exception_info\": {\n",
      "        \"raised_exception\": false,\n",
      "        \"exception_traceback\": null,\n",
      "        \"exception_message\": null\n",
      "      }\n",
      "    },\n",
      "    {\n",
      "      \"success\": true,\n",
      "      \"expectation_config\": {\n",
      "        \"type\": \"expect_column_values_to_match_strftime_format\",\n",
      "        \"kwargs\": {\n",
      "          \"batch_id\": \"pandas-transactions_data\",\n",
      "          \"column\": \"timestamp\",\n",
      "          \"strftime_format\": \"%Y-%m-%d %H:%M:%S\"\n",
      "        },\n",
      "        \"meta\": {}\n",
      "      },\n",
      "      \"result\": {\n",
      "        \"element_count\": 100000,\n",
      "        \"unexpected_count\": 0,\n",
      "        \"unexpected_percent\": 0.0,\n",
      "        \"partial_unexpected_list\": [],\n",
      "        \"missing_count\": 0,\n",
      "        \"missing_percent\": 0.0,\n",
      "        \"unexpected_percent_total\": 0.0,\n",
      "        \"unexpected_percent_nonmissing\": 0.0\n",
      "      },\n",
      "      \"meta\": {},\n",
      "      \"exception_info\": {\n",
      "        \"raised_exception\": false,\n",
      "        \"exception_traceback\": null,\n",
      "        \"exception_message\": null\n",
      "      }\n",
      "    },\n",
      "    {\n",
      "      \"success\": true,\n",
      "      \"expectation_config\": {\n",
      "        \"type\": \"expect_column_values_to_be_between\",\n",
      "        \"kwargs\": {\n",
      "          \"batch_id\": \"pandas-transactions_data\",\n",
      "          \"column\": \"amount\",\n",
      "          \"min_value\": 0.01,\n",
      "          \"max_value\": 100000.0\n",
      "        },\n",
      "        \"meta\": {}\n",
      "      },\n",
      "      \"result\": {\n",
      "        \"element_count\": 100000,\n",
      "        \"unexpected_count\": 0,\n",
      "        \"unexpected_percent\": 0.0,\n",
      "        \"partial_unexpected_list\": [],\n",
      "        \"missing_count\": 0,\n",
      "        \"missing_percent\": 0.0,\n",
      "        \"unexpected_percent_total\": 0.0,\n",
      "        \"unexpected_percent_nonmissing\": 0.0\n",
      "      },\n",
      "      \"meta\": {},\n",
      "      \"exception_info\": {\n",
      "        \"raised_exception\": false,\n",
      "        \"exception_traceback\": null,\n",
      "        \"exception_message\": null\n",
      "      }\n",
      "    },\n",
      "    {\n",
      "      \"success\": true,\n",
      "      \"expectation_config\": {\n",
      "        \"type\": \"expect_column_values_to_be_in_set\",\n",
      "        \"kwargs\": {\n",
      "          \"batch_id\": \"pandas-transactions_data\",\n",
      "          \"column\": \"currency\",\n",
      "          \"value_set\": [\n",
      "            \"SEK\",\n",
      "            \"USD\",\n",
      "            \"EUR\",\n",
      "            \"DKK\",\n",
      "            \"JPY\",\n",
      "            \"ZMW\",\n",
      "            \"NOK\",\n",
      "            \"ZAR\",\n",
      "            \"RMB\",\n",
      "            \"GBP\"\n",
      "          ]\n",
      "        },\n",
      "        \"meta\": {}\n",
      "      },\n",
      "      \"result\": {\n",
      "        \"element_count\": 100000,\n",
      "        \"unexpected_count\": 0,\n",
      "        \"unexpected_percent\": 0.0,\n",
      "        \"partial_unexpected_list\": [],\n",
      "        \"missing_count\": 0,\n",
      "        \"missing_percent\": 0.0,\n",
      "        \"unexpected_percent_total\": 0.0,\n",
      "        \"unexpected_percent_nonmissing\": 0.0\n",
      "      },\n",
      "      \"meta\": {},\n",
      "      \"exception_info\": {\n",
      "        \"raised_exception\": false,\n",
      "        \"exception_traceback\": null,\n",
      "        \"exception_message\": null\n",
      "      }\n",
      "    },\n",
      "    {\n",
      "      \"success\": true,\n",
      "      \"expectation_config\": {\n",
      "        \"type\": \"expect_column_values_to_be_in_set\",\n",
      "        \"kwargs\": {\n",
      "          \"batch_id\": \"pandas-transactions_data\",\n",
      "          \"column\": \"transaction_type\",\n",
      "          \"value_set\": [\n",
      "            \"incoming\",\n",
      "            \"outgoing\"\n",
      "          ]\n",
      "        },\n",
      "        \"meta\": {}\n",
      "      },\n",
      "      \"result\": {\n",
      "        \"element_count\": 100000,\n",
      "        \"unexpected_count\": 0,\n",
      "        \"unexpected_percent\": 0.0,\n",
      "        \"partial_unexpected_list\": [],\n",
      "        \"missing_count\": 0,\n",
      "        \"missing_percent\": 0.0,\n",
      "        \"unexpected_percent_total\": 0.0,\n",
      "        \"unexpected_percent_nonmissing\": 0.0\n",
      "      },\n",
      "      \"meta\": {},\n",
      "      \"exception_info\": {\n",
      "        \"raised_exception\": false,\n",
      "        \"exception_traceback\": null,\n",
      "        \"exception_message\": null\n",
      "      }\n",
      "    },\n",
      "    {\n",
      "      \"success\": true,\n",
      "      \"expectation_config\": {\n",
      "        \"type\": \"expect_column_values_to_match_regex\",\n",
      "        \"kwargs\": {\n",
      "          \"batch_id\": \"pandas-transactions_data\",\n",
      "          \"column\": \"receiver_account\",\n",
      "          \"regex\": \"^(?:SE\\\\d{4}[A-Z]{4}\\\\d{14}|GB\\\\d{2}[A-Z]{4}\\\\d{14})$\"\n",
      "        },\n",
      "        \"meta\": {}\n",
      "      },\n",
      "      \"result\": {\n",
      "        \"element_count\": 100000,\n",
      "        \"unexpected_count\": 0,\n",
      "        \"unexpected_percent\": 0.0,\n",
      "        \"partial_unexpected_list\": [],\n",
      "        \"missing_count\": 0,\n",
      "        \"missing_percent\": 0.0,\n",
      "        \"unexpected_percent_total\": 0.0,\n",
      "        \"unexpected_percent_nonmissing\": 0.0\n",
      "      },\n",
      "      \"meta\": {},\n",
      "      \"exception_info\": {\n",
      "        \"raised_exception\": false,\n",
      "        \"exception_traceback\": null,\n",
      "        \"exception_message\": null\n",
      "      }\n",
      "    },\n",
      "    {\n",
      "      \"success\": true,\n",
      "      \"expectation_config\": {\n",
      "        \"type\": \"expect_column_values_to_match_regex\",\n",
      "        \"kwargs\": {\n",
      "          \"batch_id\": \"pandas-transactions_data\",\n",
      "          \"column\": \"sender_account\",\n",
      "          \"regex\": \"^(?:SE\\\\d{4}[A-Z]{4}\\\\d{14}|GB\\\\d{2}[A-Z]{4}\\\\d{14})$\"\n",
      "        },\n",
      "        \"meta\": {}\n",
      "      },\n",
      "      \"result\": {\n",
      "        \"element_count\": 100000,\n",
      "        \"unexpected_count\": 0,\n",
      "        \"unexpected_percent\": 0.0,\n",
      "        \"partial_unexpected_list\": [],\n",
      "        \"missing_count\": 0,\n",
      "        \"missing_percent\": 0.0,\n",
      "        \"unexpected_percent_total\": 0.0,\n",
      "        \"unexpected_percent_nonmissing\": 0.0\n",
      "      },\n",
      "      \"meta\": {},\n",
      "      \"exception_info\": {\n",
      "        \"raised_exception\": false,\n",
      "        \"exception_traceback\": null,\n",
      "        \"exception_message\": null\n",
      "      }\n",
      "    },\n",
      "    {\n",
      "      \"success\": false,\n",
      "      \"expectation_config\": {\n",
      "        \"type\": \"expect_column_values_to_not_be_null\",\n",
      "        \"kwargs\": {\n",
      "          \"batch_id\": \"pandas-transactions_data\",\n",
      "          \"column\": \"sender_country\"\n",
      "        },\n",
      "        \"meta\": {}\n",
      "      },\n",
      "      \"result\": {\n",
      "        \"element_count\": 100000,\n",
      "        \"unexpected_count\": 500,\n",
      "        \"unexpected_percent\": 0.5,\n",
      "        \"partial_unexpected_list\": [\n",
      "          null,\n",
      "          null,\n",
      "          null,\n",
      "          null,\n",
      "          null,\n",
      "          null,\n",
      "          null,\n",
      "          null,\n",
      "          null,\n",
      "          null,\n",
      "          null,\n",
      "          null,\n",
      "          null,\n",
      "          null,\n",
      "          null,\n",
      "          null,\n",
      "          null,\n",
      "          null,\n",
      "          null,\n",
      "          null\n",
      "        ]\n",
      "      },\n",
      "      \"meta\": {},\n",
      "      \"exception_info\": {\n",
      "        \"raised_exception\": false,\n",
      "        \"exception_traceback\": null,\n",
      "        \"exception_message\": null\n",
      "      }\n",
      "    },\n",
      "    {\n",
      "      \"success\": false,\n",
      "      \"expectation_config\": {\n",
      "        \"type\": \"expect_column_values_to_not_be_null\",\n",
      "        \"kwargs\": {\n",
      "          \"batch_id\": \"pandas-transactions_data\",\n",
      "          \"column\": \"receiver_country\"\n",
      "        },\n",
      "        \"meta\": {}\n",
      "      },\n",
      "      \"result\": {\n",
      "        \"element_count\": 100000,\n",
      "        \"unexpected_count\": 500,\n",
      "        \"unexpected_percent\": 0.5,\n",
      "        \"partial_unexpected_list\": [\n",
      "          null,\n",
      "          null,\n",
      "          null,\n",
      "          null,\n",
      "          null,\n",
      "          null,\n",
      "          null,\n",
      "          null,\n",
      "          null,\n",
      "          null,\n",
      "          null,\n",
      "          null,\n",
      "          null,\n",
      "          null,\n",
      "          null,\n",
      "          null,\n",
      "          null,\n",
      "          null,\n",
      "          null,\n",
      "          null\n",
      "        ]\n",
      "      },\n",
      "      \"meta\": {},\n",
      "      \"exception_info\": {\n",
      "        \"raised_exception\": false,\n",
      "        \"exception_traceback\": null,\n",
      "        \"exception_message\": null\n",
      "      }\n",
      "    },\n",
      "    {\n",
      "      \"success\": false,\n",
      "      \"expectation_config\": {\n",
      "        \"type\": \"expect_column_values_to_not_be_null\",\n",
      "        \"kwargs\": {\n",
      "          \"batch_id\": \"pandas-transactions_data\",\n",
      "          \"column\": \"sender_municipality\"\n",
      "        },\n",
      "        \"meta\": {}\n",
      "      },\n",
      "      \"result\": {\n",
      "        \"element_count\": 100000,\n",
      "        \"unexpected_count\": 500,\n",
      "        \"unexpected_percent\": 0.5,\n",
      "        \"partial_unexpected_list\": [\n",
      "          null,\n",
      "          null,\n",
      "          null,\n",
      "          null,\n",
      "          null,\n",
      "          null,\n",
      "          null,\n",
      "          null,\n",
      "          null,\n",
      "          null,\n",
      "          null,\n",
      "          null,\n",
      "          null,\n",
      "          null,\n",
      "          null,\n",
      "          null,\n",
      "          null,\n",
      "          null,\n",
      "          null,\n",
      "          null\n",
      "        ]\n",
      "      },\n",
      "      \"meta\": {},\n",
      "      \"exception_info\": {\n",
      "        \"raised_exception\": false,\n",
      "        \"exception_traceback\": null,\n",
      "        \"exception_message\": null\n",
      "      }\n",
      "    },\n",
      "    {\n",
      "      \"success\": false,\n",
      "      \"expectation_config\": {\n",
      "        \"type\": \"expect_column_values_to_not_be_null\",\n",
      "        \"kwargs\": {\n",
      "          \"batch_id\": \"pandas-transactions_data\",\n",
      "          \"column\": \"receiver_municipality\"\n",
      "        },\n",
      "        \"meta\": {}\n",
      "      },\n",
      "      \"result\": {\n",
      "        \"element_count\": 100000,\n",
      "        \"unexpected_count\": 500,\n",
      "        \"unexpected_percent\": 0.5,\n",
      "        \"partial_unexpected_list\": [\n",
      "          null,\n",
      "          null,\n",
      "          null,\n",
      "          null,\n",
      "          null,\n",
      "          null,\n",
      "          null,\n",
      "          null,\n",
      "          null,\n",
      "          null,\n",
      "          null,\n",
      "          null,\n",
      "          null,\n",
      "          null,\n",
      "          null,\n",
      "          null,\n",
      "          null,\n",
      "          null,\n",
      "          null,\n",
      "          null\n",
      "        ]\n",
      "      },\n",
      "      \"meta\": {},\n",
      "      \"exception_info\": {\n",
      "        \"raised_exception\": false,\n",
      "        \"exception_traceback\": null,\n",
      "        \"exception_message\": null\n",
      "      }\n",
      "    }\n",
      "  ],\n",
      "  \"suite_name\": \"transactions_suite\",\n",
      "  \"suite_parameters\": {},\n",
      "  \"statistics\": {\n",
      "    \"evaluated_expectations\": 12,\n",
      "    \"successful_expectations\": 8,\n",
      "    \"unsuccessful_expectations\": 4,\n",
      "    \"success_percent\": 66.66666666666666\n",
      "  },\n",
      "  \"meta\": {\n",
      "    \"great_expectations_version\": \"1.4.6\",\n",
      "    \"expectation_suite_name\": \"transactions_suite\",\n",
      "    \"run_id\": {\n",
      "      \"run_name\": null,\n",
      "      \"run_time\": \"2025-05-30T13:23:09.303159+02:00\"\n",
      "    },\n",
      "    \"batch_spec\": {\n",
      "      \"batch_data\": \"PandasDataFrame\"\n",
      "    },\n",
      "    \"batch_markers\": {\n",
      "      \"ge_load_time\": \"20250530T112222.844925Z\",\n",
      "      \"pandas_data_fingerprint\": \"d2ca6375fc762fd7b8aa4b0b347af3f5\"\n",
      "    },\n",
      "    \"active_batch_definition\": {\n",
      "      \"datasource_name\": \"pandas\",\n",
      "      \"data_connector_name\": \"fluent\",\n",
      "      \"data_asset_name\": \"transactions_data\",\n",
      "      \"batch_identifiers\": {\n",
      "        \"dataframe\": \"<DATAFRAME>\"\n",
      "      }\n",
      "    },\n",
      "    \"validation_time\": \"20250530T112309.303159Z\",\n",
      "    \"checkpoint_name\": null\n",
      "  },\n",
      "  \"id\": null\n",
      "}\n"
     ]
    },
    {
     "name": "stderr",
     "output_type": "stream",
     "text": [
      "\n"
     ]
    }
   ],
   "execution_count": 61
  },
  {
   "metadata": {
    "ExecuteTime": {
     "end_time": "2025-05-30T11:24:42.531962Z",
     "start_time": "2025-05-30T11:24:42.521466Z"
    }
   },
   "cell_type": "code",
   "source": [
    "import json\n",
    "\n",
    "with open(\"validation_results_transactions.json\", \"w\") as f:\n",
    "    json.dump(results.to_json_dict(), f, indent=4)\n"
   ],
   "id": "d3059ec85d78fbdf",
   "outputs": [],
   "execution_count": 63
  }
 ],
 "metadata": {
  "kernelspec": {
   "display_name": "Python 3",
   "language": "python",
   "name": "python3"
  },
  "language_info": {
   "codemirror_mode": {
    "name": "ipython",
    "version": 2
   },
   "file_extension": ".py",
   "mimetype": "text/x-python",
   "name": "python",
   "nbconvert_exporter": "python",
   "pygments_lexer": "ipython2",
   "version": "2.7.6"
  }
 },
 "nbformat": 4,
 "nbformat_minor": 5
}
