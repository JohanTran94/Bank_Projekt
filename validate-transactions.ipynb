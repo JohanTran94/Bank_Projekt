{
 "cells": [
  {
   "metadata": {
    "ExecuteTime": {
     "end_time": "2025-06-02T09:19:55.951189Z",
     "start_time": "2025-06-02T09:19:52.252493Z"
    }
   },
   "cell_type": "code",
   "source": [
    "import great_expectations as gx\n",
    "import pandas as pd\n",
    "import warnings\n",
    "\n",
    "warnings.filterwarnings(\"ignore\", message=\"`result_format` configured at the Validator-level*\")\n",
    "df_trans = pd.read_csv(\"./data/transactions.csv\")\n",
    "context = gx.get_context()\n",
    "datasource = context.data_sources.add_pandas(name=\"pandas\")\n",
    "data_asset = datasource.add_dataframe_asset(name=\"transactions_data\")\n",
    "batch_def = data_asset.add_batch_definition_whole_dataframe(name=\"batch_def\")\n",
    "batch = batch_def.get_batch(batch_parameters={\"dataframe\": df_trans})\n"
   ],
   "id": "20e1384fb6596348",
   "outputs": [],
   "execution_count": 2
  },
  {
   "metadata": {
    "ExecuteTime": {
     "end_time": "2025-06-03T07:18:29.082704Z",
     "start_time": "2025-06-03T07:18:29.039666Z"
    }
   },
   "cell_type": "code",
   "source": [
    "suite = gx.core.ExpectationSuite(name=\"transactions_suite\")\n",
    "validator = context.get_validator(batch=batch, expectation_suite=suite)\n"
   ],
   "id": "e64c3b2279cedec3",
   "outputs": [],
   "execution_count": 18
  },
  {
   "metadata": {
    "ExecuteTime": {
     "end_time": "2025-06-03T07:18:30.651952Z",
     "start_time": "2025-06-03T07:18:30.439728Z"
    }
   },
   "cell_type": "code",
   "source": [
    "# transaction_id\n",
    "validator.expect_column_values_to_not_be_null(\"transaction_id\")\n",
    "validator.expect_column_values_to_be_unique(\"transaction_id\")"
   ],
   "id": "ef191c9a6b136d6b",
   "outputs": [
    {
     "name": "stderr",
     "output_type": "stream",
     "text": [
      "Calculating Metrics: 100%|██████████| 6/6 [00:00<00:00, 134.08it/s]\n",
      "Calculating Metrics: 100%|██████████| 8/8 [00:00<00:00, 76.87it/s]\n"
     ]
    },
    {
     "data": {
      "text/plain": [
       "{\n",
       "  \"success\": true,\n",
       "  \"expectation_config\": {\n",
       "    \"type\": \"expect_column_values_to_be_unique\",\n",
       "    \"kwargs\": {\n",
       "      \"batch_id\": \"pandas-transactions_data\",\n",
       "      \"column\": \"transaction_id\"\n",
       "    },\n",
       "    \"meta\": {}\n",
       "  },\n",
       "  \"result\": {\n",
       "    \"element_count\": 100000,\n",
       "    \"unexpected_count\": 0,\n",
       "    \"unexpected_percent\": 0.0,\n",
       "    \"partial_unexpected_list\": [],\n",
       "    \"missing_count\": 0,\n",
       "    \"missing_percent\": 0.0,\n",
       "    \"unexpected_percent_total\": 0.0,\n",
       "    \"unexpected_percent_nonmissing\": 0.0\n",
       "  },\n",
       "  \"meta\": {},\n",
       "  \"exception_info\": {\n",
       "    \"raised_exception\": false,\n",
       "    \"exception_traceback\": null,\n",
       "    \"exception_message\": null\n",
       "  }\n",
       "}"
      ]
     },
     "execution_count": 19,
     "metadata": {},
     "output_type": "execute_result"
    }
   ],
   "execution_count": 19
  },
  {
   "metadata": {
    "ExecuteTime": {
     "end_time": "2025-06-02T09:20:01.002794Z",
     "start_time": "2025-06-02T09:20:00.496921Z"
    }
   },
   "cell_type": "code",
   "source": [
    "# timestamp\n",
    "validator.expect_column_values_to_match_strftime_format(\"timestamp\", \"%Y-%m-%d %H:%M:%S\")"
   ],
   "id": "d5d04dea3e0e3112",
   "outputs": [
    {
     "name": "stderr",
     "output_type": "stream",
     "text": [
      "Calculating Metrics: 100%|██████████| 8/8 [00:00<00:00, 16.34it/s]  \n"
     ]
    },
    {
     "data": {
      "text/plain": [
       "{\n",
       "  \"success\": true,\n",
       "  \"expectation_config\": {\n",
       "    \"type\": \"expect_column_values_to_match_strftime_format\",\n",
       "    \"kwargs\": {\n",
       "      \"batch_id\": \"pandas-transactions_data\",\n",
       "      \"column\": \"timestamp\",\n",
       "      \"strftime_format\": \"%Y-%m-%d %H:%M:%S\"\n",
       "    },\n",
       "    \"meta\": {}\n",
       "  },\n",
       "  \"result\": {\n",
       "    \"element_count\": 100000,\n",
       "    \"unexpected_count\": 0,\n",
       "    \"unexpected_percent\": 0.0,\n",
       "    \"partial_unexpected_list\": [],\n",
       "    \"missing_count\": 0,\n",
       "    \"missing_percent\": 0.0,\n",
       "    \"unexpected_percent_total\": 0.0,\n",
       "    \"unexpected_percent_nonmissing\": 0.0\n",
       "  },\n",
       "  \"meta\": {},\n",
       "  \"exception_info\": {\n",
       "    \"raised_exception\": false,\n",
       "    \"exception_traceback\": null,\n",
       "    \"exception_message\": null\n",
       "  }\n",
       "}"
      ]
     },
     "execution_count": 5,
     "metadata": {},
     "output_type": "execute_result"
    }
   ],
   "execution_count": 5
  },
  {
   "metadata": {
    "ExecuteTime": {
     "end_time": "2025-06-02T09:20:02.632757Z",
     "start_time": "2025-06-02T09:20:02.586588Z"
    }
   },
   "cell_type": "code",
   "source": [
    "# amount\n",
    "validator.expect_column_values_to_be_between(\"amount\", min_value=0.01, max_value=100000)"
   ],
   "id": "234475eda8f911f7",
   "outputs": [
    {
     "name": "stderr",
     "output_type": "stream",
     "text": [
      "Calculating Metrics: 100%|██████████| 8/8 [00:00<00:00, 262.54it/s]\n"
     ]
    },
    {
     "data": {
      "text/plain": [
       "{\n",
       "  \"success\": true,\n",
       "  \"expectation_config\": {\n",
       "    \"type\": \"expect_column_values_to_be_between\",\n",
       "    \"kwargs\": {\n",
       "      \"batch_id\": \"pandas-transactions_data\",\n",
       "      \"column\": \"amount\",\n",
       "      \"min_value\": 0.01,\n",
       "      \"max_value\": 100000.0\n",
       "    },\n",
       "    \"meta\": {}\n",
       "  },\n",
       "  \"result\": {\n",
       "    \"element_count\": 100000,\n",
       "    \"unexpected_count\": 0,\n",
       "    \"unexpected_percent\": 0.0,\n",
       "    \"partial_unexpected_list\": [],\n",
       "    \"missing_count\": 0,\n",
       "    \"missing_percent\": 0.0,\n",
       "    \"unexpected_percent_total\": 0.0,\n",
       "    \"unexpected_percent_nonmissing\": 0.0\n",
       "  },\n",
       "  \"meta\": {},\n",
       "  \"exception_info\": {\n",
       "    \"raised_exception\": false,\n",
       "    \"exception_traceback\": null,\n",
       "    \"exception_message\": null\n",
       "  }\n",
       "}"
      ]
     },
     "execution_count": 6,
     "metadata": {},
     "output_type": "execute_result"
    }
   ],
   "execution_count": 6
  },
  {
   "metadata": {
    "ExecuteTime": {
     "end_time": "2025-06-02T09:20:05.276865Z",
     "start_time": "2025-06-02T09:20:05.229078Z"
    }
   },
   "cell_type": "code",
   "source": [
    "# currency\n",
    "validator.expect_column_values_to_be_in_set(\"currency\", [\"SEK\", \"USD\", \"EUR\", \"DKK\", \"JPY\", \"ZMW\", \"NOK\", \"ZAR\", \"RMB\", \"GBP\"])"
   ],
   "id": "2e4237f0e7998a8",
   "outputs": [
    {
     "name": "stderr",
     "output_type": "stream",
     "text": [
      "Calculating Metrics: 100%|██████████| 8/8 [00:00<00:00, 221.79it/s]\n"
     ]
    },
    {
     "data": {
      "text/plain": [
       "{\n",
       "  \"success\": true,\n",
       "  \"expectation_config\": {\n",
       "    \"type\": \"expect_column_values_to_be_in_set\",\n",
       "    \"kwargs\": {\n",
       "      \"batch_id\": \"pandas-transactions_data\",\n",
       "      \"column\": \"currency\",\n",
       "      \"value_set\": [\n",
       "        \"SEK\",\n",
       "        \"USD\",\n",
       "        \"EUR\",\n",
       "        \"DKK\",\n",
       "        \"JPY\",\n",
       "        \"ZMW\",\n",
       "        \"NOK\",\n",
       "        \"ZAR\",\n",
       "        \"RMB\",\n",
       "        \"GBP\"\n",
       "      ]\n",
       "    },\n",
       "    \"meta\": {}\n",
       "  },\n",
       "  \"result\": {\n",
       "    \"element_count\": 100000,\n",
       "    \"unexpected_count\": 0,\n",
       "    \"unexpected_percent\": 0.0,\n",
       "    \"partial_unexpected_list\": [],\n",
       "    \"missing_count\": 0,\n",
       "    \"missing_percent\": 0.0,\n",
       "    \"unexpected_percent_total\": 0.0,\n",
       "    \"unexpected_percent_nonmissing\": 0.0\n",
       "  },\n",
       "  \"meta\": {},\n",
       "  \"exception_info\": {\n",
       "    \"raised_exception\": false,\n",
       "    \"exception_traceback\": null,\n",
       "    \"exception_message\": null\n",
       "  }\n",
       "}"
      ]
     },
     "execution_count": 7,
     "metadata": {},
     "output_type": "execute_result"
    }
   ],
   "execution_count": 7
  },
  {
   "metadata": {
    "ExecuteTime": {
     "end_time": "2025-06-02T09:20:07.357647Z",
     "start_time": "2025-06-02T09:20:07.311951Z"
    }
   },
   "cell_type": "code",
   "source": [
    "# transaction_type\n",
    "validator.expect_column_values_to_be_in_set(\"transaction_type\", [\"incoming\", \"outgoing\"])"
   ],
   "id": "1c30449494446ba6",
   "outputs": [
    {
     "name": "stderr",
     "output_type": "stream",
     "text": [
      "Calculating Metrics: 100%|██████████| 8/8 [00:00<00:00, 197.56it/s]\n"
     ]
    },
    {
     "data": {
      "text/plain": [
       "{\n",
       "  \"success\": true,\n",
       "  \"expectation_config\": {\n",
       "    \"type\": \"expect_column_values_to_be_in_set\",\n",
       "    \"kwargs\": {\n",
       "      \"batch_id\": \"pandas-transactions_data\",\n",
       "      \"column\": \"transaction_type\",\n",
       "      \"value_set\": [\n",
       "        \"incoming\",\n",
       "        \"outgoing\"\n",
       "      ]\n",
       "    },\n",
       "    \"meta\": {}\n",
       "  },\n",
       "  \"result\": {\n",
       "    \"element_count\": 100000,\n",
       "    \"unexpected_count\": 0,\n",
       "    \"unexpected_percent\": 0.0,\n",
       "    \"partial_unexpected_list\": [],\n",
       "    \"missing_count\": 0,\n",
       "    \"missing_percent\": 0.0,\n",
       "    \"unexpected_percent_total\": 0.0,\n",
       "    \"unexpected_percent_nonmissing\": 0.0\n",
       "  },\n",
       "  \"meta\": {},\n",
       "  \"exception_info\": {\n",
       "    \"raised_exception\": false,\n",
       "    \"exception_traceback\": null,\n",
       "    \"exception_message\": null\n",
       "  }\n",
       "}"
      ]
     },
     "execution_count": 8,
     "metadata": {},
     "output_type": "execute_result"
    }
   ],
   "execution_count": 8
  },
  {
   "metadata": {
    "ExecuteTime": {
     "end_time": "2025-06-02T09:20:09.883687Z",
     "start_time": "2025-06-02T09:20:09.719638Z"
    }
   },
   "cell_type": "code",
   "source": [
    "validator.expect_column_values_to_match_regex(\n",
    "    \"receiver_account\",\n",
    "    r\"^(?:SE\\d{4}[A-Z]{4}\\d{14}|GB\\d{2}[A-Z]{4}\\d{14})$\"\n",
    ")\n",
    "\n",
    "validator.expect_column_values_to_match_regex(\n",
    "    \"sender_account\",\n",
    "    r\"^(?:SE\\d{4}[A-Z]{4}\\d{14}|GB\\d{2}[A-Z]{4}\\d{14})$\"\n",
    ")"
   ],
   "id": "d350e6d9730dfa6b",
   "outputs": [
    {
     "name": "stderr",
     "output_type": "stream",
     "text": [
      "Calculating Metrics: 100%|██████████| 8/8 [00:00<00:00, 124.43it/s] \n",
      "Calculating Metrics: 100%|██████████| 8/8 [00:00<00:00, 100.75it/s]\n"
     ]
    },
    {
     "data": {
      "text/plain": [
       "{\n",
       "  \"success\": true,\n",
       "  \"expectation_config\": {\n",
       "    \"type\": \"expect_column_values_to_match_regex\",\n",
       "    \"kwargs\": {\n",
       "      \"batch_id\": \"pandas-transactions_data\",\n",
       "      \"column\": \"sender_account\",\n",
       "      \"regex\": \"^(?:SE\\\\d{4}[A-Z]{4}\\\\d{14}|GB\\\\d{2}[A-Z]{4}\\\\d{14})$\"\n",
       "    },\n",
       "    \"meta\": {}\n",
       "  },\n",
       "  \"result\": {\n",
       "    \"element_count\": 100000,\n",
       "    \"unexpected_count\": 0,\n",
       "    \"unexpected_percent\": 0.0,\n",
       "    \"partial_unexpected_list\": [],\n",
       "    \"missing_count\": 0,\n",
       "    \"missing_percent\": 0.0,\n",
       "    \"unexpected_percent_total\": 0.0,\n",
       "    \"unexpected_percent_nonmissing\": 0.0\n",
       "  },\n",
       "  \"meta\": {},\n",
       "  \"exception_info\": {\n",
       "    \"raised_exception\": false,\n",
       "    \"exception_traceback\": null,\n",
       "    \"exception_message\": null\n",
       "  }\n",
       "}"
      ]
     },
     "execution_count": 9,
     "metadata": {},
     "output_type": "execute_result"
    }
   ],
   "execution_count": 9
  },
  {
   "metadata": {
    "tags": [
     "Unknown receiver or sender country"
    ],
    "ExecuteTime": {
     "end_time": "2025-06-02T09:20:11.868220Z",
     "start_time": "2025-06-02T09:20:11.837991Z"
    }
   },
   "cell_type": "code",
   "source": [
    "#sender/receiver_country\n",
    "validator.expect_column_values_to_not_be_null(\"sender_country\")\n",
    "validator.expect_column_values_to_not_be_null(\"receiver_country\")"
   ],
   "id": "b2b1dcd12391de5e",
   "outputs": [
    {
     "name": "stderr",
     "output_type": "stream",
     "text": [
      "Calculating Metrics: 100%|██████████| 6/6 [00:00<00:00, 1989.87it/s]\n",
      "Calculating Metrics: 100%|██████████| 6/6 [00:00<00:00, 822.47it/s] \n"
     ]
    },
    {
     "data": {
      "text/plain": [
       "{\n",
       "  \"success\": false,\n",
       "  \"expectation_config\": {\n",
       "    \"type\": \"expect_column_values_to_not_be_null\",\n",
       "    \"kwargs\": {\n",
       "      \"batch_id\": \"pandas-transactions_data\",\n",
       "      \"column\": \"receiver_country\"\n",
       "    },\n",
       "    \"meta\": {}\n",
       "  },\n",
       "  \"result\": {\n",
       "    \"element_count\": 100000,\n",
       "    \"unexpected_count\": 500,\n",
       "    \"unexpected_percent\": 0.5,\n",
       "    \"partial_unexpected_list\": [\n",
       "      null,\n",
       "      null,\n",
       "      null,\n",
       "      null,\n",
       "      null,\n",
       "      null,\n",
       "      null,\n",
       "      null,\n",
       "      null,\n",
       "      null,\n",
       "      null,\n",
       "      null,\n",
       "      null,\n",
       "      null,\n",
       "      null,\n",
       "      null,\n",
       "      null,\n",
       "      null,\n",
       "      null,\n",
       "      null\n",
       "    ]\n",
       "  },\n",
       "  \"meta\": {},\n",
       "  \"exception_info\": {\n",
       "    \"raised_exception\": false,\n",
       "    \"exception_traceback\": null,\n",
       "    \"exception_message\": null\n",
       "  }\n",
       "}"
      ]
     },
     "execution_count": 10,
     "metadata": {},
     "output_type": "execute_result"
    }
   ],
   "execution_count": 10
  },
  {
   "metadata": {
    "ExecuteTime": {
     "end_time": "2025-05-30T11:22:54.018355Z",
     "start_time": "2025-05-30T11:22:54.004788Z"
    }
   },
   "cell_type": "code",
   "source": [
    "#markera null värder i receiver_country\n",
    "df_trans[\"receiver_country_missing\"] = df_trans[\"receiver_country\"].isnull()\n",
    "missing_rows = df_trans[df_trans[\"receiver_country_missing\"]]\n",
    "print(missing_rows.head())"
   ],
   "id": "ff04720b83cb5f2b",
   "outputs": [
    {
     "name": "stdout",
     "output_type": "stream",
     "text": [
      "                           transaction_id            timestamp    amount  \\\n",
      "675  99723967-1bc3-4f9f-85ed-cc2bfe675f5c  2025-04-17 11:12:00  46995.74   \n",
      "742  1dd877ea-185c-4f6c-b3f4-668032000d9e  2025-05-12 23:53:00  49040.75   \n",
      "762  39794385-3319-4f1d-b73a-5830638aa2a6  2025-04-10 23:55:00  15630.05   \n",
      "845  5b2636bb-70eb-4204-bc42-1b5bc87f3e6e  2025-05-12 03:55:00  29449.80   \n",
      "906  b2daea58-16d5-40ae-ba90-3d844362b519  2025-03-14 14:17:00  43954.08   \n",
      "\n",
      "    currency            sender_account          receiver_account  \\\n",
      "675      SEK  SE8902JWPZ44810854846338  SE8902PVDU32397262267370   \n",
      "742      SEK  SE8902JFXZ40334167631989  SE8902DGRO18476288845448   \n",
      "762      SEK  SE8902OLFT37200388827050  SE8902FZSN55947389902845   \n",
      "845      SEK  SE8902GZKC59110904284187  SE8902CFEY43701881421531   \n",
      "906      SEK  SE8902UFZY41218181108055  SE8902XBIN60287954526260   \n",
      "\n",
      "    sender_country sender_municipality receiver_country receiver_municipality  \\\n",
      "675         Sweden            Nyköping              NaN                 Falun   \n",
      "742         Sweden           Östersund              NaN             Uddevalla   \n",
      "762         Sweden          Södertälje              NaN             Lidköping   \n",
      "845         Sweden                Umeå              NaN               Mölndal   \n",
      "906         Sweden              Kalmar              NaN             Sandviken   \n",
      "\n",
      "    transaction_type             notes  receiver_country_missing  \n",
      "675         outgoing    Salary payment                      True  \n",
      "742         outgoing  Insurance payout                      True  \n",
      "762         incoming    Loan repayment                      True  \n",
      "845         outgoing               NaN                      True  \n",
      "906         outgoing  Insurance payout                      True  \n"
     ]
    }
   ],
   "execution_count": 58
  },
  {
   "metadata": {
    "ExecuteTime": {
     "end_time": "2025-06-02T09:20:36.106466Z",
     "start_time": "2025-06-02T09:20:36.074954Z"
    }
   },
   "cell_type": "code",
   "source": [
    "#sender/receiver_municipality\n",
    "validator.expect_column_values_to_not_be_null(\"sender_municipality\")\n",
    "validator.expect_column_values_to_not_be_null(\"receiver_municipality\")"
   ],
   "id": "f457dbc5a743f454",
   "outputs": [
    {
     "name": "stderr",
     "output_type": "stream",
     "text": [
      "Calculating Metrics: 100%|██████████| 6/6 [00:00<00:00, 1698.44it/s]\n",
      "Calculating Metrics: 100%|██████████| 6/6 [00:00<00:00, 372.62it/s]\n"
     ]
    },
    {
     "data": {
      "text/plain": [
       "{\n",
       "  \"success\": false,\n",
       "  \"expectation_config\": {\n",
       "    \"type\": \"expect_column_values_to_not_be_null\",\n",
       "    \"kwargs\": {\n",
       "      \"batch_id\": \"pandas-transactions_data\",\n",
       "      \"column\": \"receiver_municipality\"\n",
       "    },\n",
       "    \"meta\": {}\n",
       "  },\n",
       "  \"result\": {\n",
       "    \"element_count\": 100000,\n",
       "    \"unexpected_count\": 500,\n",
       "    \"unexpected_percent\": 0.5,\n",
       "    \"partial_unexpected_list\": [\n",
       "      null,\n",
       "      null,\n",
       "      null,\n",
       "      null,\n",
       "      null,\n",
       "      null,\n",
       "      null,\n",
       "      null,\n",
       "      null,\n",
       "      null,\n",
       "      null,\n",
       "      null,\n",
       "      null,\n",
       "      null,\n",
       "      null,\n",
       "      null,\n",
       "      null,\n",
       "      null,\n",
       "      null,\n",
       "      null\n",
       "    ]\n",
       "  },\n",
       "  \"meta\": {},\n",
       "  \"exception_info\": {\n",
       "    \"raised_exception\": false,\n",
       "    \"exception_traceback\": null,\n",
       "    \"exception_message\": null\n",
       "  }\n",
       "}"
      ]
     },
     "execution_count": 11,
     "metadata": {},
     "output_type": "execute_result"
    }
   ],
   "execution_count": 11
  },
  {
   "metadata": {
    "ExecuteTime": {
     "end_time": "2025-06-02T09:20:54.941258Z",
     "start_time": "2025-06-02T09:20:54.928005Z"
    }
   },
   "cell_type": "code",
   "source": [
    "#markera null värder i receiver_municipality\n",
    "df_trans['missing_receiver_municipality'] = df_trans['receiver_municipality'].isnull()\n",
    "missing_rows = df_trans[df_trans['missing_receiver_municipality'] == True]\n",
    "print(missing_rows.head())"
   ],
   "id": "f9fbfb41d7e3866d",
   "outputs": [
    {
     "name": "stdout",
     "output_type": "stream",
     "text": [
      "                            transaction_id            timestamp    amount  \\\n",
      "179   0af039ef-fc14-481b-a528-98b1913056fc  2025-02-11 10:49:00  32588.84   \n",
      "185   04ce7b53-4291-4e4c-b30c-fb43ab7cacf8  2025-03-07 02:09:00   9593.38   \n",
      "559   995b1a26-2f92-4d9f-b9f5-0841ed45c935  2025-01-03 16:02:00  45182.86   \n",
      "1322  43028e8c-31f5-40f2-87ea-53ecacb06efb  2025-01-27 04:13:00  49186.59   \n",
      "1332  42099361-786a-4001-8965-831dd69df345  2025-05-10 00:06:00   8806.56   \n",
      "\n",
      "     currency            sender_account          receiver_account  \\\n",
      "179       SEK  SE8902ZRZI47417483372579  SE8902PBJH90393502972632   \n",
      "185       SEK  SE8902ERJA13877835143324  SE8902ARJI52424267786590   \n",
      "559       SEK  SE8902GXKS66714923613080  SE8902ZRRV53604198996393   \n",
      "1322      SEK  SE8902XNTB41827621868449  SE8902IWYC64669423845053   \n",
      "1332      SEK  SE8902EQCK63728076800609  SE8902JIJC96071565969922   \n",
      "\n",
      "     sender_country sender_municipality receiver_country  \\\n",
      "179          Sweden           Sundsvall           Sweden   \n",
      "185          Sweden               Gävle           Sweden   \n",
      "559          Sweden          Norrköping           Sweden   \n",
      "1322         Sweden          Landskrona           Sweden   \n",
      "1332         Sweden              Kalmar           Sweden   \n",
      "\n",
      "     receiver_municipality transaction_type                      notes  \\\n",
      "179                    NaN         outgoing              Rent transfer   \n",
      "185                    NaN         incoming  Payment for invoice #8258   \n",
      "559                    NaN         outgoing           Insurance payout   \n",
      "1322                   NaN         incoming              Rent transfer   \n",
      "1332                   NaN         incoming            Mobile recharge   \n",
      "\n",
      "      missing_receiver_municipality  \n",
      "179                            True  \n",
      "185                            True  \n",
      "559                            True  \n",
      "1322                           True  \n",
      "1332                           True  \n"
     ]
    }
   ],
   "execution_count": 12
  },
  {
   "metadata": {
    "ExecuteTime": {
     "end_time": "2025-06-02T09:43:33.209718Z",
     "start_time": "2025-06-02T09:43:33.189338Z"
    }
   },
   "cell_type": "code",
   "source": [
    "df_trans_copy = df_trans.copy()\n",
    "df_trans_copy[\"receiver_country\"].fillna(\"Unknown\", inplace=True)\n",
    "df_trans_copy[\"receiver_municipality\"].fillna(\"Unknown\", inplace=True)"
   ],
   "id": "ecad2fd2f30e6f9c",
   "outputs": [],
   "execution_count": 16
  },
  {
   "metadata": {
    "ExecuteTime": {
     "end_time": "2025-06-02T09:24:14.736566Z",
     "start_time": "2025-06-02T09:24:14.682062Z"
    }
   },
   "cell_type": "code",
   "source": [
    "# flaga om amount >100.000 eller om transaktionernas beskrivning är \"gift, transfer, cash\"\n",
    "df_trans[\"flagged\"] = (\n",
    "    (df_trans[\"amount\"] > 100000) |\n",
    "    (df_trans[\"notes\"].str.lower().str.contains(\"gift|cash|transfer\", na=False))\n",
    ")\n"
   ],
   "id": "8a07fead2039e6e4",
   "outputs": [],
   "execution_count": 14
  },
  {
   "metadata": {
    "ExecuteTime": {
     "end_time": "2025-06-02T09:26:39.042930Z",
     "start_time": "2025-06-02T09:26:39.026312Z"
    }
   },
   "cell_type": "code",
   "source": [
    "# print alla flagar\n",
    "flagged_transactions = df_trans[df_trans[\"flagged\"] == True]\n",
    "print(flagged_transactions)\n"
   ],
   "id": "1169b7d37f32e7b",
   "outputs": [
    {
     "name": "stdout",
     "output_type": "stream",
     "text": [
      "                             transaction_id            timestamp    amount  \\\n",
      "5      92755c2b-332c-4f8d-960d-82f0399b4ea4  2025-02-03 09:56:00   5271.49   \n",
      "7      93f223c7-82e4-458b-9f78-e2ffa6d9a5f6  2025-02-04 14:14:00  24454.37   \n",
      "11     0308a664-8b78-40bd-9281-8623b3d2584a  2025-03-08 00:00:00  10977.56   \n",
      "35     2f0679d1-c58f-450a-8859-942078427ff8  2025-03-21 01:18:00  21622.21   \n",
      "39     5aa50eb5-2f63-4125-b1be-975be4bed7e7  2025-04-03 19:09:00  42150.23   \n",
      "...                                     ...                  ...       ...   \n",
      "99982  17981598-3cd3-4ccc-bbbf-ed6b6ce292c7  2025-03-21 09:00:00     29.47   \n",
      "99984  73e20836-42a5-4f3d-ac96-e67a86ba0da4  2025-01-20 17:00:00    191.28   \n",
      "99992  15f5d152-be20-4659-8469-027438d03e1b  2025-02-26 11:00:00     40.59   \n",
      "99993  2fa15e88-1cbb-46c1-b683-a988acfb80c5  2025-04-14 14:00:00    118.29   \n",
      "99996  f9ab95c4-e33b-478b-8aec-95e182c9582c  2025-03-20 10:00:00    178.02   \n",
      "\n",
      "      currency            sender_account          receiver_account  \\\n",
      "5          SEK  SE8902PVNM34258841032637  SE8902OFTJ79383582820961   \n",
      "7          SEK  SE8902TJBO76009734317061  SE8902SAUK38756106548184   \n",
      "11         SEK  SE8902MPBO87772633723937  SE8902ZJVA11817265425330   \n",
      "35         SEK  SE8902QLYH24628869288269  SE8902YARE38911515845364   \n",
      "39         SEK  SE8902FCSV26977507325534  SE8902ZCTK81497780781136   \n",
      "...        ...                       ...                       ...   \n",
      "99982      USD    GB97GNGW13067987022074  SE8902ZJVA11817265425330   \n",
      "99984      USD    GB07RQZB49909291603108  SE8902ZJVA11817265425330   \n",
      "99992      USD    GB45IYKL87439919895161  SE8902ZJBK03539793529686   \n",
      "99993      USD    GB33XIDE07954362224957  SE8902ZJBK03539793529686   \n",
      "99996      USD    GB80PSZS32551326940313  SE8902ZJBK03539793529686   \n",
      "\n",
      "      sender_country sender_municipality receiver_country  \\\n",
      "5             Sweden            Borlänge           Sweden   \n",
      "7             Sweden             Mölndal           Sweden   \n",
      "11               NaN           Uddevalla           Sweden   \n",
      "35            Sweden               Växjö           Sweden   \n",
      "39            Sweden                 NaN           Sweden   \n",
      "...              ...                 ...              ...   \n",
      "99982     San Marino          Potterfort           Sweden   \n",
      "99984        Algeria       Contrerasfort           Sweden   \n",
      "99992      Sri Lanka         Thomasmouth           Sweden   \n",
      "99993        Senegal          Gibsonside           Sweden   \n",
      "99996          Chile         Douglasland           Sweden   \n",
      "\n",
      "      receiver_municipality transaction_type                  notes  \\\n",
      "5                   Lidingö         incoming          Rent transfer   \n",
      "7                     Gävle         outgoing  Gift to family member   \n",
      "11                   Skövde         outgoing          Rent transfer   \n",
      "35                 Göteborg         outgoing  Gift to family member   \n",
      "39                    Falun         outgoing          Rent transfer   \n",
      "...                     ...              ...                    ...   \n",
      "99982             Ängelholm         incoming          Rent transfer   \n",
      "99984                  Lund         incoming          Rent transfer   \n",
      "99992            Skellefteå         incoming          Rent transfer   \n",
      "99993            Norrköping         outgoing  Gift to family member   \n",
      "99996                   NaN         incoming  Gift to family member   \n",
      "\n",
      "       missing_receiver_municipality  flagged  \n",
      "5                              False     True  \n",
      "7                              False     True  \n",
      "11                             False     True  \n",
      "35                             False     True  \n",
      "39                             False     True  \n",
      "...                              ...      ...  \n",
      "99982                          False     True  \n",
      "99984                          False     True  \n",
      "99992                          False     True  \n",
      "99993                          False     True  \n",
      "99996                           True     True  \n",
      "\n",
      "[12895 rows x 14 columns]\n"
     ]
    }
   ],
   "execution_count": 15
  },
  {
   "metadata": {
    "ExecuteTime": {
     "end_time": "2025-06-02T09:44:52.704627Z",
     "start_time": "2025-06-02T09:44:52.325078Z"
    }
   },
   "cell_type": "code",
   "source": "df_trans_copy.to_csv(\"transactions_cleaned.csv\", index=False)",
   "id": "1187ea965830eff5",
   "outputs": [],
   "execution_count": 17
  },
  {
   "metadata": {
    "ExecuteTime": {
     "end_time": "2025-06-02T09:20:59.573712Z",
     "start_time": "2025-06-02T09:20:58.736682Z"
    }
   },
   "cell_type": "code",
   "source": [
    "results = validator.validate()\n",
    "print(results)\n"
   ],
   "id": "198751ab8c5baa",
   "outputs": [
    {
     "name": "stderr",
     "output_type": "stream",
     "text": [
      "Calculating Metrics: 100%|██████████| 54/54 [00:00<00:00, 69.65it/s] "
     ]
    },
    {
     "name": "stdout",
     "output_type": "stream",
     "text": [
      "{\n",
      "  \"success\": false,\n",
      "  \"results\": [\n",
      "    {\n",
      "      \"success\": true,\n",
      "      \"expectation_config\": {\n",
      "        \"type\": \"expect_column_values_to_not_be_null\",\n",
      "        \"kwargs\": {\n",
      "          \"batch_id\": \"pandas-transactions_data\",\n",
      "          \"column\": \"transaction_id\"\n",
      "        },\n",
      "        \"meta\": {}\n",
      "      },\n",
      "      \"result\": {\n",
      "        \"element_count\": 100000,\n",
      "        \"unexpected_count\": 0,\n",
      "        \"unexpected_percent\": 0.0,\n",
      "        \"partial_unexpected_list\": []\n",
      "      },\n",
      "      \"meta\": {},\n",
      "      \"exception_info\": {\n",
      "        \"raised_exception\": false,\n",
      "        \"exception_traceback\": null,\n",
      "        \"exception_message\": null\n",
      "      }\n",
      "    },\n",
      "    {\n",
      "      \"success\": true,\n",
      "      \"expectation_config\": {\n",
      "        \"type\": \"expect_column_values_to_be_unique\",\n",
      "        \"kwargs\": {\n",
      "          \"batch_id\": \"pandas-transactions_data\",\n",
      "          \"column\": \"transaction_id\"\n",
      "        },\n",
      "        \"meta\": {}\n",
      "      },\n",
      "      \"result\": {\n",
      "        \"element_count\": 100000,\n",
      "        \"unexpected_count\": 0,\n",
      "        \"unexpected_percent\": 0.0,\n",
      "        \"partial_unexpected_list\": [],\n",
      "        \"missing_count\": 0,\n",
      "        \"missing_percent\": 0.0,\n",
      "        \"unexpected_percent_total\": 0.0,\n",
      "        \"unexpected_percent_nonmissing\": 0.0\n",
      "      },\n",
      "      \"meta\": {},\n",
      "      \"exception_info\": {\n",
      "        \"raised_exception\": false,\n",
      "        \"exception_traceback\": null,\n",
      "        \"exception_message\": null\n",
      "      }\n",
      "    },\n",
      "    {\n",
      "      \"success\": true,\n",
      "      \"expectation_config\": {\n",
      "        \"type\": \"expect_column_values_to_match_strftime_format\",\n",
      "        \"kwargs\": {\n",
      "          \"batch_id\": \"pandas-transactions_data\",\n",
      "          \"column\": \"timestamp\",\n",
      "          \"strftime_format\": \"%Y-%m-%d %H:%M:%S\"\n",
      "        },\n",
      "        \"meta\": {}\n",
      "      },\n",
      "      \"result\": {\n",
      "        \"element_count\": 100000,\n",
      "        \"unexpected_count\": 0,\n",
      "        \"unexpected_percent\": 0.0,\n",
      "        \"partial_unexpected_list\": [],\n",
      "        \"missing_count\": 0,\n",
      "        \"missing_percent\": 0.0,\n",
      "        \"unexpected_percent_total\": 0.0,\n",
      "        \"unexpected_percent_nonmissing\": 0.0\n",
      "      },\n",
      "      \"meta\": {},\n",
      "      \"exception_info\": {\n",
      "        \"raised_exception\": false,\n",
      "        \"exception_traceback\": null,\n",
      "        \"exception_message\": null\n",
      "      }\n",
      "    },\n",
      "    {\n",
      "      \"success\": true,\n",
      "      \"expectation_config\": {\n",
      "        \"type\": \"expect_column_values_to_be_between\",\n",
      "        \"kwargs\": {\n",
      "          \"batch_id\": \"pandas-transactions_data\",\n",
      "          \"column\": \"amount\",\n",
      "          \"min_value\": 0.01,\n",
      "          \"max_value\": 100000.0\n",
      "        },\n",
      "        \"meta\": {}\n",
      "      },\n",
      "      \"result\": {\n",
      "        \"element_count\": 100000,\n",
      "        \"unexpected_count\": 0,\n",
      "        \"unexpected_percent\": 0.0,\n",
      "        \"partial_unexpected_list\": [],\n",
      "        \"missing_count\": 0,\n",
      "        \"missing_percent\": 0.0,\n",
      "        \"unexpected_percent_total\": 0.0,\n",
      "        \"unexpected_percent_nonmissing\": 0.0\n",
      "      },\n",
      "      \"meta\": {},\n",
      "      \"exception_info\": {\n",
      "        \"raised_exception\": false,\n",
      "        \"exception_traceback\": null,\n",
      "        \"exception_message\": null\n",
      "      }\n",
      "    },\n",
      "    {\n",
      "      \"success\": true,\n",
      "      \"expectation_config\": {\n",
      "        \"type\": \"expect_column_values_to_be_in_set\",\n",
      "        \"kwargs\": {\n",
      "          \"batch_id\": \"pandas-transactions_data\",\n",
      "          \"column\": \"currency\",\n",
      "          \"value_set\": [\n",
      "            \"SEK\",\n",
      "            \"USD\",\n",
      "            \"EUR\",\n",
      "            \"DKK\",\n",
      "            \"JPY\",\n",
      "            \"ZMW\",\n",
      "            \"NOK\",\n",
      "            \"ZAR\",\n",
      "            \"RMB\",\n",
      "            \"GBP\"\n",
      "          ]\n",
      "        },\n",
      "        \"meta\": {}\n",
      "      },\n",
      "      \"result\": {\n",
      "        \"element_count\": 100000,\n",
      "        \"unexpected_count\": 0,\n",
      "        \"unexpected_percent\": 0.0,\n",
      "        \"partial_unexpected_list\": [],\n",
      "        \"missing_count\": 0,\n",
      "        \"missing_percent\": 0.0,\n",
      "        \"unexpected_percent_total\": 0.0,\n",
      "        \"unexpected_percent_nonmissing\": 0.0\n",
      "      },\n",
      "      \"meta\": {},\n",
      "      \"exception_info\": {\n",
      "        \"raised_exception\": false,\n",
      "        \"exception_traceback\": null,\n",
      "        \"exception_message\": null\n",
      "      }\n",
      "    },\n",
      "    {\n",
      "      \"success\": true,\n",
      "      \"expectation_config\": {\n",
      "        \"type\": \"expect_column_values_to_be_in_set\",\n",
      "        \"kwargs\": {\n",
      "          \"batch_id\": \"pandas-transactions_data\",\n",
      "          \"column\": \"transaction_type\",\n",
      "          \"value_set\": [\n",
      "            \"incoming\",\n",
      "            \"outgoing\"\n",
      "          ]\n",
      "        },\n",
      "        \"meta\": {}\n",
      "      },\n",
      "      \"result\": {\n",
      "        \"element_count\": 100000,\n",
      "        \"unexpected_count\": 0,\n",
      "        \"unexpected_percent\": 0.0,\n",
      "        \"partial_unexpected_list\": [],\n",
      "        \"missing_count\": 0,\n",
      "        \"missing_percent\": 0.0,\n",
      "        \"unexpected_percent_total\": 0.0,\n",
      "        \"unexpected_percent_nonmissing\": 0.0\n",
      "      },\n",
      "      \"meta\": {},\n",
      "      \"exception_info\": {\n",
      "        \"raised_exception\": false,\n",
      "        \"exception_traceback\": null,\n",
      "        \"exception_message\": null\n",
      "      }\n",
      "    },\n",
      "    {\n",
      "      \"success\": true,\n",
      "      \"expectation_config\": {\n",
      "        \"type\": \"expect_column_values_to_match_regex\",\n",
      "        \"kwargs\": {\n",
      "          \"batch_id\": \"pandas-transactions_data\",\n",
      "          \"column\": \"receiver_account\",\n",
      "          \"regex\": \"^(?:SE\\\\d{4}[A-Z]{4}\\\\d{14}|GB\\\\d{2}[A-Z]{4}\\\\d{14})$\"\n",
      "        },\n",
      "        \"meta\": {}\n",
      "      },\n",
      "      \"result\": {\n",
      "        \"element_count\": 100000,\n",
      "        \"unexpected_count\": 0,\n",
      "        \"unexpected_percent\": 0.0,\n",
      "        \"partial_unexpected_list\": [],\n",
      "        \"missing_count\": 0,\n",
      "        \"missing_percent\": 0.0,\n",
      "        \"unexpected_percent_total\": 0.0,\n",
      "        \"unexpected_percent_nonmissing\": 0.0\n",
      "      },\n",
      "      \"meta\": {},\n",
      "      \"exception_info\": {\n",
      "        \"raised_exception\": false,\n",
      "        \"exception_traceback\": null,\n",
      "        \"exception_message\": null\n",
      "      }\n",
      "    },\n",
      "    {\n",
      "      \"success\": true,\n",
      "      \"expectation_config\": {\n",
      "        \"type\": \"expect_column_values_to_match_regex\",\n",
      "        \"kwargs\": {\n",
      "          \"batch_id\": \"pandas-transactions_data\",\n",
      "          \"column\": \"sender_account\",\n",
      "          \"regex\": \"^(?:SE\\\\d{4}[A-Z]{4}\\\\d{14}|GB\\\\d{2}[A-Z]{4}\\\\d{14})$\"\n",
      "        },\n",
      "        \"meta\": {}\n",
      "      },\n",
      "      \"result\": {\n",
      "        \"element_count\": 100000,\n",
      "        \"unexpected_count\": 0,\n",
      "        \"unexpected_percent\": 0.0,\n",
      "        \"partial_unexpected_list\": [],\n",
      "        \"missing_count\": 0,\n",
      "        \"missing_percent\": 0.0,\n",
      "        \"unexpected_percent_total\": 0.0,\n",
      "        \"unexpected_percent_nonmissing\": 0.0\n",
      "      },\n",
      "      \"meta\": {},\n",
      "      \"exception_info\": {\n",
      "        \"raised_exception\": false,\n",
      "        \"exception_traceback\": null,\n",
      "        \"exception_message\": null\n",
      "      }\n",
      "    },\n",
      "    {\n",
      "      \"success\": false,\n",
      "      \"expectation_config\": {\n",
      "        \"type\": \"expect_column_values_to_not_be_null\",\n",
      "        \"kwargs\": {\n",
      "          \"batch_id\": \"pandas-transactions_data\",\n",
      "          \"column\": \"sender_country\"\n",
      "        },\n",
      "        \"meta\": {}\n",
      "      },\n",
      "      \"result\": {\n",
      "        \"element_count\": 100000,\n",
      "        \"unexpected_count\": 500,\n",
      "        \"unexpected_percent\": 0.5,\n",
      "        \"partial_unexpected_list\": [\n",
      "          null,\n",
      "          null,\n",
      "          null,\n",
      "          null,\n",
      "          null,\n",
      "          null,\n",
      "          null,\n",
      "          null,\n",
      "          null,\n",
      "          null,\n",
      "          null,\n",
      "          null,\n",
      "          null,\n",
      "          null,\n",
      "          null,\n",
      "          null,\n",
      "          null,\n",
      "          null,\n",
      "          null,\n",
      "          null\n",
      "        ]\n",
      "      },\n",
      "      \"meta\": {},\n",
      "      \"exception_info\": {\n",
      "        \"raised_exception\": false,\n",
      "        \"exception_traceback\": null,\n",
      "        \"exception_message\": null\n",
      "      }\n",
      "    },\n",
      "    {\n",
      "      \"success\": false,\n",
      "      \"expectation_config\": {\n",
      "        \"type\": \"expect_column_values_to_not_be_null\",\n",
      "        \"kwargs\": {\n",
      "          \"batch_id\": \"pandas-transactions_data\",\n",
      "          \"column\": \"receiver_country\"\n",
      "        },\n",
      "        \"meta\": {}\n",
      "      },\n",
      "      \"result\": {\n",
      "        \"element_count\": 100000,\n",
      "        \"unexpected_count\": 500,\n",
      "        \"unexpected_percent\": 0.5,\n",
      "        \"partial_unexpected_list\": [\n",
      "          null,\n",
      "          null,\n",
      "          null,\n",
      "          null,\n",
      "          null,\n",
      "          null,\n",
      "          null,\n",
      "          null,\n",
      "          null,\n",
      "          null,\n",
      "          null,\n",
      "          null,\n",
      "          null,\n",
      "          null,\n",
      "          null,\n",
      "          null,\n",
      "          null,\n",
      "          null,\n",
      "          null,\n",
      "          null\n",
      "        ]\n",
      "      },\n",
      "      \"meta\": {},\n",
      "      \"exception_info\": {\n",
      "        \"raised_exception\": false,\n",
      "        \"exception_traceback\": null,\n",
      "        \"exception_message\": null\n",
      "      }\n",
      "    },\n",
      "    {\n",
      "      \"success\": false,\n",
      "      \"expectation_config\": {\n",
      "        \"type\": \"expect_column_values_to_not_be_null\",\n",
      "        \"kwargs\": {\n",
      "          \"batch_id\": \"pandas-transactions_data\",\n",
      "          \"column\": \"sender_municipality\"\n",
      "        },\n",
      "        \"meta\": {}\n",
      "      },\n",
      "      \"result\": {\n",
      "        \"element_count\": 100000,\n",
      "        \"unexpected_count\": 500,\n",
      "        \"unexpected_percent\": 0.5,\n",
      "        \"partial_unexpected_list\": [\n",
      "          null,\n",
      "          null,\n",
      "          null,\n",
      "          null,\n",
      "          null,\n",
      "          null,\n",
      "          null,\n",
      "          null,\n",
      "          null,\n",
      "          null,\n",
      "          null,\n",
      "          null,\n",
      "          null,\n",
      "          null,\n",
      "          null,\n",
      "          null,\n",
      "          null,\n",
      "          null,\n",
      "          null,\n",
      "          null\n",
      "        ]\n",
      "      },\n",
      "      \"meta\": {},\n",
      "      \"exception_info\": {\n",
      "        \"raised_exception\": false,\n",
      "        \"exception_traceback\": null,\n",
      "        \"exception_message\": null\n",
      "      }\n",
      "    },\n",
      "    {\n",
      "      \"success\": false,\n",
      "      \"expectation_config\": {\n",
      "        \"type\": \"expect_column_values_to_not_be_null\",\n",
      "        \"kwargs\": {\n",
      "          \"batch_id\": \"pandas-transactions_data\",\n",
      "          \"column\": \"receiver_municipality\"\n",
      "        },\n",
      "        \"meta\": {}\n",
      "      },\n",
      "      \"result\": {\n",
      "        \"element_count\": 100000,\n",
      "        \"unexpected_count\": 500,\n",
      "        \"unexpected_percent\": 0.5,\n",
      "        \"partial_unexpected_list\": [\n",
      "          null,\n",
      "          null,\n",
      "          null,\n",
      "          null,\n",
      "          null,\n",
      "          null,\n",
      "          null,\n",
      "          null,\n",
      "          null,\n",
      "          null,\n",
      "          null,\n",
      "          null,\n",
      "          null,\n",
      "          null,\n",
      "          null,\n",
      "          null,\n",
      "          null,\n",
      "          null,\n",
      "          null,\n",
      "          null\n",
      "        ]\n",
      "      },\n",
      "      \"meta\": {},\n",
      "      \"exception_info\": {\n",
      "        \"raised_exception\": false,\n",
      "        \"exception_traceback\": null,\n",
      "        \"exception_message\": null\n",
      "      }\n",
      "    }\n",
      "  ],\n",
      "  \"suite_name\": \"transactions_suite\",\n",
      "  \"suite_parameters\": {},\n",
      "  \"statistics\": {\n",
      "    \"evaluated_expectations\": 12,\n",
      "    \"successful_expectations\": 8,\n",
      "    \"unsuccessful_expectations\": 4,\n",
      "    \"success_percent\": 66.66666666666666\n",
      "  },\n",
      "  \"meta\": {\n",
      "    \"great_expectations_version\": \"1.4.6\",\n",
      "    \"expectation_suite_name\": \"transactions_suite\",\n",
      "    \"run_id\": {\n",
      "      \"run_name\": null,\n",
      "      \"run_time\": \"2025-06-02T11:20:58.748690+02:00\"\n",
      "    },\n",
      "    \"batch_spec\": {\n",
      "      \"batch_data\": \"PandasDataFrame\"\n",
      "    },\n",
      "    \"batch_markers\": {\n",
      "      \"ge_load_time\": \"20250602T091955.828365Z\",\n",
      "      \"pandas_data_fingerprint\": \"d2ca6375fc762fd7b8aa4b0b347af3f5\"\n",
      "    },\n",
      "    \"active_batch_definition\": {\n",
      "      \"datasource_name\": \"pandas\",\n",
      "      \"data_connector_name\": \"fluent\",\n",
      "      \"data_asset_name\": \"transactions_data\",\n",
      "      \"batch_identifiers\": {\n",
      "        \"dataframe\": \"<DATAFRAME>\"\n",
      "      }\n",
      "    },\n",
      "    \"validation_time\": \"20250602T092058.748690Z\",\n",
      "    \"checkpoint_name\": null\n",
      "  },\n",
      "  \"id\": null\n",
      "}\n"
     ]
    },
    {
     "name": "stderr",
     "output_type": "stream",
     "text": [
      "\n"
     ]
    }
   ],
   "execution_count": 13
  },
  {
   "metadata": {
    "ExecuteTime": {
     "end_time": "2025-05-30T11:24:42.531962Z",
     "start_time": "2025-05-30T11:24:42.521466Z"
    }
   },
   "cell_type": "code",
   "source": [
    "import json\n",
    "\n",
    "with open(\"validation_results_transactions.json\", \"w\") as f:\n",
    "    json.dump(results.to_json_dict(), f, indent=4)\n"
   ],
   "id": "d3059ec85d78fbdf",
   "outputs": [],
   "execution_count": 63
  }
 ],
 "metadata": {
  "kernelspec": {
   "display_name": "Python 3",
   "language": "python",
   "name": "python3"
  },
  "language_info": {
   "codemirror_mode": {
    "name": "ipython",
    "version": 2
   },
   "file_extension": ".py",
   "mimetype": "text/x-python",
   "name": "python",
   "nbconvert_exporter": "python",
   "pygments_lexer": "ipython2",
   "version": "2.7.6"
  }
 },
 "nbformat": 4,
 "nbformat_minor": 5
}
